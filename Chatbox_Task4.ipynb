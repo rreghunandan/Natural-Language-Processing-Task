{
  "nbformat": 4,
  "nbformat_minor": 0,
  "metadata": {
    "colab": {
      "name": "Chatbox-Task4.ipynb",
      "provenance": [],
      "collapsed_sections": [],
      "authorship_tag": "ABX9TyOB84h8o4Js6eY/YXHRGGX9",
      "include_colab_link": true
    },
    "kernelspec": {
      "name": "python3",
      "display_name": "Python 3"
    },
    "language_info": {
      "name": "python"
    }
  },
  "cells": [
    {
      "cell_type": "markdown",
      "metadata": {
        "id": "view-in-github",
        "colab_type": "text"
      },
      "source": [
        "<a href=\"https://colab.research.google.com/github/rreghunandan/Natural-Language-Processing-Task/blob/main/Chatbox_Task4.ipynb\" target=\"_parent\"><img src=\"https://colab.research.google.com/assets/colab-badge.svg\" alt=\"Open In Colab\"/></a>"
      ]
    },
    {
      "cell_type": "code",
      "source": [
        "# importing necessary package\n",
        "\n",
        "from nltk.chat.util import Chat, reflections"
      ],
      "metadata": {
        "id": "81m3FUu-H6P8"
      },
      "execution_count": null,
      "outputs": []
    },
    {
      "cell_type": "code",
      "source": [
        "# defining Pairs (list of patterns and responses):\n",
        "\n",
        "pairs = [\n",
        "    [\n",
        "        r\"(.*)my name is (.*)\",\n",
        "        [\"Hello %2, How are you today ?\",]\n",
        "    ],\n",
        "    [\n",
        "        r\"(.*)help(.*) \",\n",
        "        [\"I can help you \",]\n",
        "    ],\n",
        "     [\n",
        "        r\"(.*) your name ?\",\n",
        "        [\"My name is helpdesk, thanks for asking .\",]\n",
        "    ],\n",
        "    [\n",
        "        r\"how are you (.*) ?\",\n",
        "        [\"I'm doing very well\", \"I am great !\"]\n",
        "    ],\n",
        "    [\n",
        "        r\"sorry (.*)\",\n",
        "        [\"Its alright\",\"Its OK, never mind \",]\n",
        "    ],\n",
        "    [\n",
        "        r\"(hi|hey|hello|hola|holla)(.*)\",\n",
        "        [\"Hello\", \"Hey there\",]\n",
        "    ],\n",
        "  \n",
        "    [\n",
        "        r\"quit\",\n",
        "        [\"Bye for now. Have a great day :) \",\"It was nice talking to you. Take Care :)\"]\n",
        "    ],\n",
        "    [\n",
        "        r\"(.*)(help|book)(.*)\",\n",
        "        ['Kindly provide your Name, Mobile Number, Address, ID proof, and Room Type and date of arrival and departure date.']\n",
        "    ],\n",
        "    [\n",
        "        r\"(.*)(1|2|3|4|5|6|7)(.*)\",\n",
        "        ['Thanks for the information. You will be allocated room']\n",
        "    ],\n",
        "    [\n",
        "        r\"(.*)(available|availability|saturday|sunday)(.*)\",\n",
        "        ['Saturday and Sunday, rooms are not available']\n",
        "    ],\n",
        "    [\n",
        "        r\"(.*)(AC|non AC|room)(.*)\",\n",
        "        ['AC rooms are not available']\n",
        "    ],\n",
        "    [\n",
        "        r\"(.*)\",\n",
        "        ['Okay']\n",
        "    ],\n",
        "    \n",
        "]"
      ],
      "metadata": {
        "id": "DzEZmqDxKWr6"
      },
      "execution_count": null,
      "outputs": []
    },
    {
      "cell_type": "code",
      "source": [
        "# default message at the start of chat\n",
        "print(\"Hi, How may I assit you today \\n\\nPlease type below to start a conversation. \\n\\nType quit to leave\\n\\n \")\n",
        "\n",
        "# Create Chat Bot\n",
        "chat = Chat(pairs, reflections)\n",
        "\n",
        "# Start conversation\n",
        "chat.converse()"
      ],
      "metadata": {
        "id": "Bj_eSj3CKWuP",
        "colab": {
          "base_uri": "https://localhost:8080/"
        },
        "outputId": "a4dccad2-b9c7-4648-d6a3-2e681e66e8f8"
      },
      "execution_count": null,
      "outputs": [
        {
          "output_type": "stream",
          "name": "stdout",
          "text": [
            "Hi, How may I assit you today \n",
            "\n",
            "Please type below to start a conversation. \n",
            "\n",
            "Type quit to leave\n",
            "\n",
            " \n",
            ">hey\n",
            "Hello\n",
            ">I want to book rooms\n",
            "Kindly provide your Name, Mobile Number, Address, ID proof, and Room Type and date of arrival and departure date.\n",
            ">Reshma,0123456789,krl\n",
            "Thanks for the information. You will be allocated room\n",
            ">Okay,thanks\n",
            "Okay\n",
            ">quit\n",
            "It was nice talking to you. Take Care :)\n"
          ]
        }
      ]
    }
  ]
}